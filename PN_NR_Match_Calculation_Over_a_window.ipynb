{
 "cells": [
  {
   "cell_type": "markdown",
   "id": "504801c6",
   "metadata": {},
   "source": [
    "#### Importing Packages"
   ]
  },
  {
   "cell_type": "code",
   "execution_count": 1,
   "id": "50d7ebc5",
   "metadata": {},
   "outputs": [],
   "source": [
    "import pylab\n",
    "import h5py\n",
    "import math\n",
    "import array\n",
    "from numpy import *\n",
    "import numpy as np\n",
    "from pycbc.types import TimeSeries, FrequencySeries\n",
    "from pycbc.waveform import get_td_waveform, get_fd_waveform\n",
    "from pycbc.waveform.waveform_modes import get_td_waveform_modes\n",
    "from pycbc import types, fft, waveform\n",
    "import lal\n",
    "from scipy import interpolate\n",
    "from scipy.interpolate import interp1d\n",
    "from lal import MSUN_SI, MTSUN_SI, G_SI, PC_SI, C_SI, PI\n",
    "from pycbc.filter import match\n",
    "from pycbc.psd import aLIGOZeroDetHighPower\n",
    "from tqdm import tqdm#\n",
    "\n",
    "\n",
    "import matplotlib as mpl\n",
    "\n",
    " \n",
    "from matplotlib import gridspec\n",
    "from matplotlib import ticker\n",
    "\n",
    "import matplotlib.pyplot as plt\n",
    "import pandas as pd\n",
    "import csv"
   ]
  },
  {
   "cell_type": "markdown",
   "id": "4b2f8e39",
   "metadata": {},
   "source": [
    "#### Importing Eccentricity - Frequency data for a particular simulation"
   ]
  },
  {
   "cell_type": "code",
   "execution_count": 2,
   "id": "7b1ef0e4",
   "metadata": {},
   "outputs": [],
   "source": [
    "df = pd.read_csv('Ecc vs Freq_1373.csv')"
   ]
  },
  {
   "cell_type": "code",
   "execution_count": 3,
   "id": "0a41e7f0",
   "metadata": {},
   "outputs": [
    {
     "name": "stdout",
     "output_type": "stream",
     "text": [
      "3753 3753\n"
     ]
    }
   ],
   "source": [
    "F = []\n",
    "E = []\n",
    "\n",
    "for i in df['Eccentricity']:\n",
    "    E.append(i)\n",
    "for j in df['Frequency']:\n",
    "    F.append(j)\n",
    "    \n",
    "print(len(E),len(F))"
   ]
  },
  {
   "cell_type": "markdown",
   "id": "c1b10a3e",
   "metadata": {},
   "source": [
    "#### This block is needed only when we fix either frequency or eccentricity"
   ]
  },
  {
   "cell_type": "code",
   "execution_count": 4,
   "id": "0c7cb991",
   "metadata": {},
   "outputs": [
    {
     "name": "stdout",
     "output_type": "stream",
     "text": [
      "1 1\n",
      "0.1200773097763825\n"
     ]
    }
   ],
   "source": [
    "F1 = []\n",
    "E1 = []\n",
    "for i in range(len(F)):\n",
    "    if abs(E[i]-0.12)<1e-4:#abs(F[i]-20)<1e-2:\n",
    "        F1.append(F[i])\n",
    "        E1.append(E[i])\n",
    "print(len(E1),len(F1))\n",
    "print(min(E1))"
   ]
  },
  {
   "cell_type": "markdown",
   "id": "ecfcf77a",
   "metadata": {},
   "source": [
    "#### Moore et.al. definition of eccentricity"
   ]
  },
  {
   "cell_type": "code",
   "execution_count": 5,
   "id": "a3c9f668",
   "metadata": {},
   "outputs": [],
   "source": [
    "# Eq. (4.17a, 4.17b), Pg. 18, Moore et al (2016)\n",
    "\n",
    "def epsilon(xi, eta):\n",
    "    return(( 1 + ( ( -2833/2016 + 197/72 * eta ) * ( xi )**( 2/3 ) + \n",
    "                  ( -377/144 * np.pi * xi + ( ( 77006005/24385536 + ( -1143767/145152 * eta + \n",
    " \t 43807/10368 * ( eta )**( 2 ) ) ) * ( xi )**( 4/3 ) + ( np.pi * ( 9901567/1451520 + \n",
    " \t -202589/362880 * eta ) * ( xi )**( 5/3 ) + ( xi )**( 2 ) * ( -33320661414619/386266890240 + \n",
    " \t ( 3317/252 * EulerGamma + ( 180721/41472 * ( np.pi )**( 2 ) + ( ( 161339510737/8778792960 + \n",
    " \t 3977/2304 * ( np.pi )**( 2 ) ) * eta + ( -359037739/20901888 * ( eta )**( 2 ) + \n",
    "      ( 10647791/2239488 * ( eta )**( 3 ) + ( -87419/3780 * np.log( 2 ) + \n",
    " \t ( 26001/1120 * np.log( 3 ) + 3317/504 * np.log( 16 * ( xi )**( 2/3 ) ) ) ) ) ) ) ) ) ) ) ) ) ) ))"
   ]
  },
  {
   "cell_type": "markdown",
   "id": "43f3a0f9",
   "metadata": {},
   "source": [
    "#### Analytical fits expressions"
   ]
  },
  {
   "cell_type": "code",
   "execution_count": 6,
   "id": "f2528770",
   "metadata": {},
   "outputs": [],
   "source": [
    "# \"Hinder+ modified all 20 simulations SEOBNRv4 model, full frequency range --Feb 16\n",
    "g=open('tshift_H+modified_20hyb_Feb16.txt',\"r\") \n",
    "lines=g.readlines() \n",
    "A=[] \n",
    "for x in lines: \n",
    "    A.append(float(x.split()[1])) \n",
    "g.close()\n",
    "\n",
    "def tshift_Hinsp(q,e,l): \n",
    "    return A[0] + A[1]*q + A[2]*q**2 + A[3]*e + A[4]*e**2 + A[5]*e**3 + A[6]*e*q + A[7]*(e**2)*q + A[8]*e*(q**2) + A[9]*(e**2)*(q**2) + A[10]*(e**3)*q + A[11]*e*q*math.cos(l + A[12]) + A[13]*(e**2)*(q**2)*math.cos(e*l + A[14]) + A[15]*(e**3)*q*math.cos(l + A[16]) + A[17]*e*(q**2)*math.cos(l + A[18])\n",
    "\n",
    "g=open('tamp_H+modified_20hyb_Feb16.txt',\"r\") \n",
    "lines=g.readlines() \n",
    "B=[] \n",
    "for x in lines: \n",
    "    B.append(float(x.split()[1])) \n",
    "g.close()\n",
    "\n",
    "def tamp_Hinsp(eta,e,l): \n",
    "    return B[0] + B[1]*eta + B[2]*eta**2 + B[3]*e + B[4]*e**2 + B[5]*e**3 + B[6]*e*eta + B[7]*(e**2)*eta + B[8]*e*(eta**2) + B[9]*(e**2)*(eta**2) + B[10]*(e**3)*eta + B[11]*e*eta*math.cos(l + B[12]) + B[13]*(e**2)*(eta**2)*math.cos(l + B[14]) + B[15]*(e**3)*eta*math.cos(e*l + B[16])\n",
    "\n",
    "g=open('tfreq_H+modified_20hyb_Feb16.txt',\"r\") \n",
    "lines=g.readlines() \n",
    "C=[] \n",
    "for x in lines: \n",
    "    C.append(float(x.split()[1])) \n",
    "g.close()\n",
    "\n",
    "def tfreq_Hinsp(eta,e,l): \n",
    "    return C[0] + C[1]*eta + C[2]*eta**2 + C[3]*e + C[4]*e**2 + C[5]*e**3 + C[6]*e*eta + C[7]*(e**2)*eta + C[8]*e*(eta**2) + C[9]*(e**2)*(eta**2) + C[10]*(e**3)*eta + C[11]*e*eta*math.cos(l + C[12]) + C[13]*(e**2)*(eta**2)*math.cos(l + C[14]) + C[15]*(e**3)*eta*math.cos(e*l + C[16])+ C[17]*(e**3)*(eta**2)*math.cos(e*l + C[18])"
   ]
  },
  {
   "cell_type": "markdown",
   "id": "30208410",
   "metadata": {},
   "source": [
    "#### Spherical Harmonics "
   ]
  },
  {
   "cell_type": "code",
   "execution_count": 7,
   "id": "87394eec",
   "metadata": {},
   "outputs": [],
   "source": [
    "def sph_harmonics(inc,ell):\n",
    "    L=ell\n",
    "    #inc = 10\n",
    "    theta = inc\n",
    "    for l in range(L,L+1):\n",
    "\n",
    "        for m in range(-l,l+1):\n",
    "            dlm = 0;\n",
    "            k1 = max([0, m-2]);\n",
    "            k2 = min([l+m, l-2]);\n",
    "\n",
    "            #if(m==l or m==l-1):\n",
    "            for k in range(k1,k2+1):\n",
    "                A = []; B = []; cosTerm = []; sinTerm = []; dlmTmp = [];\n",
    "\n",
    "                A = (-1)**k*math.sqrt(math.factorial(l+m)*math.factorial(l-m)*math.factorial(l+2)*math.factorial(l-2));\n",
    "                B = math.factorial(k)*math.factorial(k-m+2)*math.factorial(l+m-k)*math.factorial(l-k-2);\n",
    "\n",
    "                cosTerm = pow(math.cos(theta/2), 2*l+m-2*k-2);\n",
    "                sinTerm = pow(math.sin(theta/2), 2*k-m+2);\n",
    "\n",
    "                dlmTmp = (A/B)*cosTerm*sinTerm;\n",
    "                dlm = dlm+dlmTmp\n",
    "\n",
    "            Ylm = math.sqrt((2*l+1)/(4*math.pi))*dlm\n",
    "            #print('l:',l,'m:',m,'\\t Y_lm:',Ylm)\n",
    "            if m==ell:\n",
    "                #globals()['sph' + str(l) + str(m)] = Ylm\n",
    "                #print('l:',l,'m:',m,'\\t Y_lm:',Ylm)\n",
    "                sphlm = Ylm\n",
    "            elif m==-ell:\n",
    "                #globals()['sph' + str(l) + '_' + str(abs(m))] = Ylm\n",
    "                #print('l:',l,'m:',m,'\\t Y_lm:',Ylm)\n",
    "                sphl_m = Ylm\n",
    "            else:\n",
    "                continue\n",
    "    return sphlm, sphl_m"
   ]
  },
  {
   "cell_type": "markdown",
   "id": "40dceca0",
   "metadata": {},
   "source": [
    "#### Frequency convertion factors"
   ]
  },
  {
   "cell_type": "code",
   "execution_count": 8,
   "id": "25afc71e",
   "metadata": {},
   "outputs": [],
   "source": [
    "def xi(x):\n",
    "    return x**(3/2)\n",
    "\n",
    "def xconv(f,M):\n",
    "    return (PI*M*MTSUN_SI*f)**(2/3)  #22 mode conversion\n",
    "\n",
    "def fconv(x,M):\n",
    "    return x**(3/2)/(PI*M*MTSUN_SI)  #22 mode conversion\n"
   ]
  },
  {
   "cell_type": "markdown",
   "id": "3a03cb6d",
   "metadata": {},
   "source": [
    "#### Function that can call each $(l, m)$ model for match calculations"
   ]
  },
  {
   "cell_type": "code",
   "execution_count": 9,
   "id": "fc435647",
   "metadata": {},
   "outputs": [],
   "source": [
    "def eccmodel(Mass,q0,e0,l0,fmin,inclination=0,d=1,delta_t=1./4096,modes=[[2,2]]):\n",
    "    \n",
    "    #delta_t=0.00015208911520102518\n",
    "    #delta_t = 1/2**20\n",
    "    ell = []\n",
    "    numrows = len(modes)\n",
    "    numcols = len(modes[0])\n",
    "    for i in range(0,numrows):\n",
    "        l = modes[i][0]\n",
    "        m = modes[i][1]\n",
    "        ell.append(l)\n",
    "    angle = inclination\n",
    "    waveform = {}\n",
    "    count = 0\n",
    "    el = 2\n",
    "    if el in ell:\n",
    "        mode_data = {}\n",
    "        mode_data['hp'], mode_data['hc'], mode_data['t'] = model_22(Mass,q0,e0,l0,fmin,angle,d,delta_t)\n",
    "        waveform['l2_m2'] = mode_data\n",
    "        count = count + 1\n",
    "\n",
    "    el = 3\n",
    "    if el in ell:\n",
    "        mode_data = {}\n",
    "        mode_data['hp'], mode_data['hc'], mode_data['t'] = MODEL33(Mass,q0,e0,l0,fmin,angle,d,delta_t)\n",
    "        waveform['l3_m3'] = mode_data\n",
    "        count = count + 1\n",
    "        \n",
    "    el = 4\n",
    "    if el in ell:\n",
    "        mode_data = {}\n",
    "        mode_data['hp'], mode_data['hc'], mode_data['t'] = MODEL44(Mass,q0,e0,l0,fmin,angle,d,delta_t)\n",
    "        waveform['l4_m4'] = mode_data\n",
    "        count = count + 1\n",
    "        \n",
    "    el = 5\n",
    "    if el in ell:\n",
    "        mode_data = {}\n",
    "        mode_data['hp'], mode_data['hc'], mode_data['t'] = MODEL55(Mass,q0,e0,l0,fmin,angle,d,delta_t)\n",
    "        waveform['l5_m5'] = mode_data\n",
    "        count = count + 1\n",
    "        \n",
    "    len_max_mode = '0'\n",
    "    len_max = 0\n",
    "    for mode in waveform.keys():\n",
    "        if len(waveform[mode]['t'])>len_max:\n",
    "            len_max_mode = mode\n",
    "            len_max = len(waveform[mode]['t'])\n",
    "            \n",
    "    for mode in waveform.keys():\n",
    "        if mode != len_max_mode:\n",
    "            waveform[mode]['hp'].resize(len_max)\n",
    "            waveform[mode]['hc'].resize(len_max)\n",
    "            \n",
    "    hp=0\n",
    "    hc=0\n",
    "    time=waveform[len_max_mode]['t']\n",
    "    for mode in waveform.keys():\n",
    "        hp = hp + waveform[mode]['hp']\n",
    "        hc = hc + waveform[mode]['hc']\n",
    "        \n",
    "    hplus = TimeSeries(hp,delta_t,epoch=time[0])\n",
    "    hcross = TimeSeries(hc,delta_t,epoch=time[0])\n",
    "    \n",
    "    return hplus, hcross"
   ]
  },
  {
   "cell_type": "markdown",
   "id": "9346bb96",
   "metadata": {},
   "source": [
    "#### Function that generates PN and NR waveforms given the parameter values"
   ]
  },
  {
   "cell_type": "code",
   "execution_count": 10,
   "id": "dc95878d",
   "metadata": {},
   "outputs": [],
   "source": [
    "def PN_NR(m,q0,e0,l0,fmin,angle,d,delta_t):\n",
    "    \n",
    "    M=m\n",
    "    q=q0\n",
    "    M1 = q*M/(1+q)\n",
    "    M2 = M/(1+q)\n",
    "    eta = q/(1+q)**2\n",
    "\n",
    "    M_SI=M*MSUN_SI\n",
    "    D_SI=(10**(6))*PC_SI\n",
    "    mode2polfac=4*(5/(64*np.pi))**(1/2)\n",
    "\n",
    "\n",
    "    fref = 0.075**(3/2) /MTSUN_SI/ PI/M\n",
    "    fmin = fmin\n",
    "\n",
    "    #PN\n",
    "    hp, hc = get_td_waveform(approximant='EccentricTD', mass1=M1, mass2=M2, delta_t=delta_t, f_lower=fmin, eccentricity=e0)\n",
    "        \n",
    "        \n",
    "    #NR\n",
    "    simulation = '/home/pratul/Downloads/Project/NR_data/1373_rhOverM_Asymptotic_GeometricUnits_CoM.h5'\n",
    "    sims = simulation.split('_')[0]\n",
    "    lp = 2 #modes\n",
    "    mp = 2\n",
    "    tref = 380.0\n",
    "    mode = 'l'+str(lp)+'_m'+str(mp)\n",
    "    with h5py.File(simulation, 'r') as hdf:\n",
    "        temp=hdf['OutermostExtraction.dir']['Y_'+mode+'.dat']\n",
    "        test=np.array(temp)\n",
    "\n",
    "    x1=test[:,0]\n",
    "    y1=test[:,1]    \n",
    "    z1=test[:,2]\n",
    "\n",
    "\n",
    "    plotband=np.where(x1>=tref)\n",
    "    x1=x1[plotband]\n",
    "    x1=x1-x1[np.argmax(abs(y1))]\n",
    "    y1=y1[plotband]    \n",
    "    z1=z1[plotband]\n",
    "    x1 = x1-x1[np.argmax(y1)] #setting t_merger = 0\n",
    "    \n",
    "    \n",
    "    NRAmp = abs(y1-1j*z1)\n",
    "\n",
    "    tot=y1-1j*z1\n",
    "    amp=abs(tot)\n",
    "    ph=np.angle(tot)\n",
    "    phase_NR=np.unwrap(ph)\n",
    "    w=np.absolute(diff(phase_NR)/diff(x1))\n",
    "    phi0=phase_NR[0]\n",
    "                \n",
    "   # interpolation EccentricTD\n",
    "    hp_intrp = interp1d(hp.sample_times/(M*MTSUN_SI), hp/(G_SI*M_SI/D_SI/C_SI/C_SI * mode2polfac), kind='cubic',fill_value='extrapolate')\n",
    "    hc_intrp = interp1d(hc.sample_times/(M*MTSUN_SI), hc/(G_SI*M_SI/D_SI/C_SI/C_SI * mode2polfac), kind='cubic',fill_value='extrapolate')\n",
    "    time_PN = np.arange(-2000, -1000, delta_t) #x1[0]\n",
    "    hpVec_PN = hp_intrp(time_PN)\n",
    "    hcVec_PN = hc_intrp(time_PN)\n",
    "    #h22Ecc = hpVec_PN + 1j*hcVec_PN\n",
    "    \n",
    "    # interpolation NR\n",
    "    hpVec_NR_intrp = interp1d(x1, y1, kind='cubic', fill_value = 'extrapolate')\n",
    "    hcVec_NR_intrp = interp1d(x1, z1, kind='cubic', fill_value = 'extrapolate')\n",
    "    time_NR = np.arange(-2000,-1000,delta_t) #x1[0]\n",
    "    hpVec_NR = hpVec_NR_intrp(time_NR)\n",
    "    hcVec_NR = hcVec_NR_intrp(time_NR)\n",
    "            \n",
    "    #plt.figure(figsize=(12,4))\n",
    "    #plt.plot(time_PN, hpVec_PN,color='cyan',label='PN',linewidth=1)\n",
    "    #plt.plot(time_NR, hpVec_NR,label='NR',color='darkblue')\n",
    "    #plt.legend()\n",
    "    #plt.xlim(-4100,100)\n",
    "    \n",
    "    return time_PN, hpVec_PN, hcVec_PN, time_NR, hpVec_NR, hcVec_NR\n",
    "    \n",
    "    \n",
    "    \n",
    "        "
   ]
  },
  {
   "cell_type": "markdown",
   "id": "e9f2a04a",
   "metadata": {},
   "source": [
    "#### Mismatch Calculation between PN and NR by choosing a particular window"
   ]
  },
  {
   "cell_type": "code",
   "execution_count": 11,
   "id": "573befdc",
   "metadata": {},
   "outputs": [
    {
     "name": "stderr",
     "output_type": "stream",
     "text": [
      "100%|█████████████████████████████████████| 3753/3753 [2:01:09<00:00,  1.94s/it]\n"
     ]
    }
   ],
   "source": [
    "M = 30\n",
    "q0 = 3\n",
    "l0 = 1.682\n",
    "d0 = 1\n",
    "inc = 0\n",
    "delta_t = 1./4096\n",
    "D_SI = (10**(6))*PC_SI\n",
    "mode2polfac=4*(5/(64*np.pi))**(1/2)\n",
    "Mismatch = []\n",
    "\n",
    "for k in tqdm(range(len(F))):\n",
    "    time_PN, hpVec_PN, hcVec_PN, time_NR, hpVec_NR, hcVec_NR= PN_NR(30,3,E[k],1.682,F[k],0,1,1./4096)\n",
    "    \n",
    "        \n",
    "    Hp = TimeSeries(hpVec_PN, delta_t, epoch=0)\n",
    "    Hc = TimeSeries(hcVec_PN, delta_t, epoch=0)\n",
    "    HpVec_NR = TimeSeries(hpVec_NR, delta_t)\n",
    "    HcVec_NR = TimeSeries(hcVec_NR, delta_t)\n",
    "    \n",
    "    \n",
    "    HP = HpVec_NR*(G_SI*M*MSUN_SI/D_SI/C_SI/C_SI * mode2polfac)\n",
    "    HC = HcVec_NR*(G_SI*M*MSUN_SI/D_SI/C_SI/C_SI * mode2polfac)\n",
    "    PHASE = (np.unwrap(np.angle(HP-1j*HC)*2)/2)\n",
    "    delta_t =  np.abs(np.mean((np.diff(time_PN*30*MTSUN_SI))))\n",
    "    OMEGA22 = (1/delta_t)*(np.gradient(PHASE))\n",
    "    low_freq_cutoff = (OMEGA22/(2*PI))[0]\n",
    "    \n",
    "    \n",
    "    # mismatch\n",
    "    tlen = max(len(Hp),len(HpVec_NR))\n",
    "    Hp.resize(tlen)\n",
    "    HpVec_NR.resize(tlen)\n",
    "    delta_f = 1./(Hp.duration)\n",
    "    flen = tlen//2+1\n",
    "    f_low = 15\n",
    "    psd = aLIGOZeroDetHighPower(flen, delta_f, f_low)\n",
    "    m, i =match(HpVec_NR,Hp,psd=psd,low_frequency_cutoff=low_freq_cutoff)\n",
    "    mismatch = 1-m\n",
    "    #print(1-mismatch)\n",
    "    Mismatch.append(mismatch)"
   ]
  },
  {
   "cell_type": "markdown",
   "id": "610d1a7a",
   "metadata": {},
   "source": [
    "#### Finding out the eccentricity-frequency pair corresponding to lowest mismatch"
   ]
  },
  {
   "cell_type": "code",
   "execution_count": 12,
   "id": "ad506c06",
   "metadata": {},
   "outputs": [
    {
     "name": "stdout",
     "output_type": "stream",
     "text": [
      "e, f =  0.3002253913119377 , 13.744525253596516 77 0.9963420847250981\n"
     ]
    }
   ],
   "source": [
    "MMM = np.delete(Mismatch,0)\n",
    "ind=np.where(MMM==np.min(MMM))[0][0]\n",
    "print('e, f = ',E[ind],',',F[ind],ind,1-MMM[ind])"
   ]
  },
  {
   "cell_type": "code",
   "execution_count": null,
   "id": "dbbe8a87",
   "metadata": {},
   "outputs": [],
   "source": [
    "print(max(F))"
   ]
  },
  {
   "cell_type": "code",
   "execution_count": null,
   "id": "a5e22ff1",
   "metadata": {},
   "outputs": [],
   "source": []
  }
 ],
 "metadata": {
  "kernelspec": {
   "display_name": "Python 3 (ipykernel)",
   "language": "python",
   "name": "python3"
  },
  "language_info": {
   "codemirror_mode": {
    "name": "ipython",
    "version": 3
   },
   "file_extension": ".py",
   "mimetype": "text/x-python",
   "name": "python",
   "nbconvert_exporter": "python",
   "pygments_lexer": "ipython3",
   "version": "3.7.13"
  }
 },
 "nbformat": 4,
 "nbformat_minor": 5
}
